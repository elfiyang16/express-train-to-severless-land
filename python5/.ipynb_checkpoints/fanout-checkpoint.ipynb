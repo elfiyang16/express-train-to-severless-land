{
 "cells": [
  {
   "cell_type": "code",
   "execution_count": 5,
   "id": "1f65834f",
   "metadata": {},
   "outputs": [
    {
     "name": "stdout",
     "output_type": "stream",
     "text": [
      "Collecting package metadata (current_repodata.json): done\n",
      "Solving environment: done\n",
      "\n",
      "# All requested packages already installed.\n",
      "\n"
     ]
    }
   ],
   "source": [
    "import sys\n",
    "!conda install --yes --prefix {sys.prefix} boto3"
   ]
  },
  {
   "cell_type": "markdown",
   "id": "fb136210",
   "metadata": {},
   "source": [
    "### SQS"
   ]
  },
  {
   "cell_type": "code",
   "execution_count": 6,
   "id": "32e9acfb",
   "metadata": {},
   "outputs": [],
   "source": [
    "try:\n",
    "    import boto3\n",
    "    import os\n",
    "    import sys\n",
    "    import json\n",
    "except Exception as e:\n",
    "    print(e)"
   ]
  },
  {
   "cell_type": "code",
   "execution_count": 7,
   "id": "0bff1583",
   "metadata": {},
   "outputs": [],
   "source": [
    "AWS_ACCESS_KEY=\"\"\n",
    "AWS_SECRET_KEY=\"\"\n",
    "AWS_SQS_NAME=\"python5-test\""
   ]
  },
  {
   "cell_type": "code",
   "execution_count": 12,
   "id": "c7eee48f",
   "metadata": {},
   "outputs": [],
   "source": [
    "class SQS(object):\n",
    "    \n",
    "    def __init__(self, queueName=None):\n",
    "        \"\"\"\n",
    "        init a default SQS instance, also get an optional Queuename\n",
    "        \"\"\"\n",
    "        self.resource = boto3.resource(\"sqs\", region_name=\"eu-west-1\", aws_access_key_id= AWS_ACCESS_KEY, aws_secret_access_key=AWS_SECRET_KEY)\n",
    "        self.queue = self.resource.get_queue_by_name(QueueName = AWS_SQS_NAME)\n",
    "        self.QueueName = queueName\n",
    "    \n",
    "    def send(self, Message={}):\n",
    "        \"\"\"\n",
    "        create a json format input and send \n",
    "        \"\"\"\n",
    "        data = json.dumps(Message)# send as json \n",
    "        response = self.queue.send_message(MessageBody = data)\n",
    "        return response\n",
    "        \n",
    "    def receive(self):\n",
    "        \"\"\"\n",
    "        create another SQS instance, \n",
    "        for all msgs in the queue, convert the msg to a dict,\n",
    "        and then delete from queue\n",
    "        \"\"\"\n",
    "        try:\n",
    "            queue = self.resource.get_queue_by_name(QueueName= self.QueueName)\n",
    "            for msg in queue.receive_messages():\n",
    "                data = msg.body\n",
    "                data = json.loads(Data)\n",
    "                msg.delete()\n",
    "        except Exception as e:\n",
    "            print(e)\n",
    "            return []\n",
    "        return data"
   ]
  },
  {
   "cell_type": "code",
   "execution_count": 13,
   "id": "e8aae124",
   "metadata": {},
   "outputs": [
    {
     "name": "stdout",
     "output_type": "stream",
     "text": [
      "{'name': 'Elfi Y lalala', 'count': '1'}\n",
      "{'name': 'Elfi Y lalala', 'count': '2'}\n",
      "{'name': 'Elfi Y lalala', 'count': '3'}\n",
      "{'name': 'Elfi Y lalala', 'count': '4'}\n",
      "{'name': 'Elfi Y lalala', 'count': '5'}\n"
     ]
    }
   ],
   "source": [
    "from time import sleep \n",
    "q = SQS(queueName = AWS_SQS_NAME)\n",
    "\n",
    "for i in range(1,6):\n",
    "    Message = {\n",
    "        \"name\":\"Elfi Y lalala\",\n",
    "        \"count\": str(i)\n",
    "    }\n",
    "    print(Message)\n",
    "    sleep(2)\n",
    "    response = q.send(Message=Message)"
   ]
  },
  {
   "cell_type": "markdown",
   "id": "d63d0803",
   "metadata": {},
   "source": [
    "### SNS"
   ]
  },
  {
   "cell_type": "code",
   "execution_count": 14,
   "id": "2373660b",
   "metadata": {},
   "outputs": [],
   "source": [
    "try:\n",
    "    import boto3\n",
    "    import os\n",
    "    import sys\n",
    "    import json\n",
    "except Exception as e:\n",
    "    print(e)"
   ]
  },
  {
   "cell_type": "code",
   "execution_count": 20,
   "id": "1b66b9fe",
   "metadata": {},
   "outputs": [],
   "source": [
    "client = boto3.client(\"sns\", region_name=\"eu-west-1\", aws_access_key_id= AWS_ACCESS_KEY, aws_secret_access_key=AWS_SECRET_KEY)"
   ]
  },
  {
   "cell_type": "raw",
   "id": "a5ce83df",
   "metadata": {},
   "source": [
    "response = client.list_topics()"
   ]
  },
  {
   "cell_type": "code",
   "execution_count": 18,
   "id": "4d497a13",
   "metadata": {},
   "outputs": [
    {
     "data": {
      "text/plain": [
       "{'MD5OfMessageBody': 'a30a38b22129f9e72cf465e3a0e47806',\n",
       " 'MessageId': '816f8cdd-c7ee-4e85-ae89-e345f623d284',\n",
       " 'ResponseMetadata': {'RequestId': '321ec350-c132-5d71-89f7-9a5e96e454b0',\n",
       "  'HTTPStatusCode': 200,\n",
       "  'HTTPHeaders': {'x-amzn-requestid': '321ec350-c132-5d71-89f7-9a5e96e454b0',\n",
       "   'date': 'Thu, 06 May 2021 20:46:14 GMT',\n",
       "   'content-type': 'text/xml',\n",
       "   'content-length': '378'},\n",
       "  'RetryAttempts': 0}}"
      ]
     },
     "execution_count": 18,
     "metadata": {},
     "output_type": "execute_result"
    }
   ],
   "source": [
    "response #list of topics the SNS has"
   ]
  },
  {
   "cell_type": "code",
   "execution_count": 22,
   "id": "c22595e7",
   "metadata": {},
   "outputs": [
    {
     "name": "stdout",
     "output_type": "stream",
     "text": [
      "{'MessageId': '9bb899a5-1257-58e0-a95c-c0ab4e95095c', 'ResponseMetadata': {'RequestId': '4549e0c6-10f1-541d-a848-b9c84c33f5a1', 'HTTPStatusCode': 200, 'HTTPHeaders': {'x-amzn-requestid': '4549e0c6-10f1-541d-a848-b9c84c33f5a1', 'content-type': 'text/xml', 'content-length': '294', 'date': 'Thu, 06 May 2021 21:07:13 GMT'}, 'RetryAttempts': 0}}\n"
     ]
    }
   ],
   "source": [
    "\"\"\"\n",
    "the SNS publishes Msg to the SQS\n",
    "\"\"\"\n",
    "from time import sleep\n",
    "for x in range(1,6):\n",
    "#     publish the messages to the queue\n",
    "    response = client.publish(\n",
    "        TopicArn = \"arn:aws:sns:eu-west-1:838626446375:python5-test\",\n",
    "        Message = json.dumps({\"name\": \"Elfi Y lalalala sub\", \"count\": str(1234)}),\n",
    "        Subject=\"test subject\"\n",
    "    )\n",
    "    sleep(2)\n",
    "    print(response)\n",
    "    break"
   ]
  },
  {
   "cell_type": "code",
   "execution_count": null,
   "id": "1b2782f9",
   "metadata": {},
   "outputs": [],
   "source": []
  }
 ],
 "metadata": {
  "kernelspec": {
   "display_name": "Python 3",
   "language": "python",
   "name": "python3"
  },
  "language_info": {
   "codemirror_mode": {
    "name": "ipython",
    "version": 3
   },
   "file_extension": ".py",
   "mimetype": "text/x-python",
   "name": "python",
   "nbconvert_exporter": "python",
   "pygments_lexer": "ipython3",
   "version": "3.9.4"
  }
 },
 "nbformat": 4,
 "nbformat_minor": 5
}
